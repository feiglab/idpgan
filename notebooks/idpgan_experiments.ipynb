{
 "cells": [
  {
   "cell_type": "markdown",
   "id": "19c1dddb",
   "metadata": {},
   "source": [
    "# IdpGAN example\n",
    "\n",
    "Welcome to the idpGAN example notebook. IdpGAN is a [GAN](https://arxiv.org/abs/1701.00160), a type of [deep generative model](https://sites.google.com/view/berkeley-cs294-158-sp20/home), trained to generate ensembles of 3D conformations of [coarse grained](https://pubmed.ncbi.nlm.nih.gov/27333362/) (CG) protein molecules.\n",
    "\n",
    "In this notebook, we will use idpGAN to generate conformational ensembles of CG [intrinsically disordered proteins](https://en.wikipedia.org/wiki/Intrinsically_disordered_proteins) (IDPs).\n",
    "\n",
    "For more details on idpGAN, please refer to: [Direct generation of protein conformational ensembles via machine learning](https://www.biorxiv.org/content/10.1101/2022.06.18.496675v1).\n",
    "\n",
    "For its source code, see: [idpGAN GitHub repository](https://link.to.github.todo)."
   ]
  },
  {
   "cell_type": "markdown",
   "id": "98a394ed",
   "metadata": {},
   "source": [
    "The notebook has three sections:\n",
    " 1. **Setup the environment**: you must run this section to import Python libraries and fetch dependencies (if needed).\n",
    " 2. **Example proteins**: illustrates how to use idpGAN and make simple analyses on its conformational ensembles.\n",
    " 3. **Generate ensembles for a custom protein**: use idpGAN to generated a conformational ensemble for a protein with a user-defined amino acid sequence."
   ]
  },
  {
   "cell_type": "markdown",
   "id": "70692aea",
   "metadata": {},
   "source": [
    "# 1 - Setup the environment\n",
    "Install the dependencies for this notebook. Needed to run the rest of the notebook.\n",
    "\n",
    "NOTE: the installation of `mdtraj` could take a few minutes if you are running on Colab."
   ]
  },
  {
   "cell_type": "code",
   "execution_count": null,
   "id": "ea181d8d",
   "metadata": {
    "scrolled": true
   },
   "outputs": [],
   "source": [
    "import os\n",
    "import numpy as np\n",
    "import matplotlib.pyplot as plt\n",
    "import torch\n",
    "\n",
    "try:\n",
    "    import google.colab\n",
    "    from google.colab import output as colab_output\n",
    "    colab_output.enable_custom_widget_manager()\n",
    "    running_in_colab = True\n",
    "except ImportError:\n",
    "    running_in_colab = False"
   ]
  },
  {
   "cell_type": "code",
   "execution_count": null,
   "id": "eec4b0e9",
   "metadata": {},
   "outputs": [],
   "source": [
    "if running_in_colab:\n",
    "    # Download from GitHub the idpgan library and data.\n",
    "    !if [ ! -f \"main.zip\" ]; then wget https://github.com/feiglab/idpgan/archive/refs/heads/main.zip; fi\n",
    "    !if [ ! -d \"idpgan-main\" ]; then unzip -u main.zip idpgan-main/data/* idpgan-main/idpgan/*; fi\n",
    "    !if [ ! -d \"data\" ]; then mv idpgan-main/data .; fi\n",
    "    !if [ ! -d \"idpgan\" ]; then mv idpgan-main/idpgan .; fi\n",
    "    # Install the python dependencies for visualizing 3D conformations.\n",
    "    !pip install nglview\n",
    "    !pip install mdtraj"
   ]
  },
  {
   "cell_type": "code",
   "execution_count": null,
   "id": "550ac509",
   "metadata": {},
   "outputs": [],
   "source": [
    "try:\n",
    "    import nglview\n",
    "    import mdtraj\n",
    "    use_3d_viewer = True\n",
    "except ImportError:\n",
    "    use_3d_viewer = False\n",
    "\n",
    "from idpgan.data import parse_fasta_seq, seq_to_cg_pdb\n",
    "from idpgan.nn_models import load_netg_article\n",
    "from idpgan.plot import (plot_average_dmap_comparison, plot_cmap_comparison,\n",
    "                         plot_rg_comparison, plot_distances_comparison,\n",
    "                         plot_rg_distribution, plot_dmap_snapshots)\n",
    "from idpgan.evaluation import (score_mse_d, score_mse_c,\n",
    "                               score_akld_d, score_kl_approximation)"
   ]
  },
  {
   "cell_type": "markdown",
   "id": "1309c086",
   "metadata": {},
   "source": [
    "Setup the device in which we want to run the PyTorch models."
   ]
  },
  {
   "cell_type": "code",
   "execution_count": null,
   "id": "76766514",
   "metadata": {},
   "outputs": [],
   "source": [
    "device = torch.device(\"cuda\" if torch.cuda.is_available() else \"cpu\")\n",
    "print(\"- Using device '%s'\" % device)"
   ]
  },
  {
   "cell_type": "markdown",
   "id": "60754f39",
   "metadata": {},
   "source": [
    "# 2 - Example proteins\n",
    "Follow this section to see how the idpGAN generator works and how to use it."
   ]
  },
  {
   "cell_type": "markdown",
   "id": "f19092a4",
   "metadata": {},
   "source": [
    "## Load reference CG MD data\n",
    "\n",
    "First of all, we will load the molecular dynamics (MD) data for two example IDPs, named `protan` and `protac`. Both proteins were not present in the training set of idpGAN and they belong to its test set.\n",
    "\n",
    "Later, we will use idpGAN to generate conformational ensembles for the same IDPs and we will compare the MD and the generated ensembles. \n",
    "\n",
    "If you are interested into the details about these MD simulations and the CG model and force field used for them, please refer to the [idpGAN article](https://www.biorxiv.org/content/10.1101/2022.06.18.496675v1)."
   ]
  },
  {
   "cell_type": "code",
   "execution_count": null,
   "id": "e87b02f9",
   "metadata": {},
   "outputs": [],
   "source": [
    "# Set the data directory of the idpGAN Git repository. If running\n",
    "# the notebook locally, you may have to change this to point to the\n",
    "# location of that directory on your system.\n",
    "data_dp = \"data\""
   ]
  },
  {
   "cell_type": "markdown",
   "id": "4d906e51",
   "metadata": {},
   "source": [
    "### Load protan and protac data\n",
    "\n",
    "The MD conformational ensembles for both IDPs are stored in NumPy arrays with shape `(N, L, 3)`.\n",
    "\n",
    "Here `N` is the number of snapshots in the ensemble.\n",
    "\n",
    "`L` is the number of residues in the protein. In our CG model each residue is represented by one \"atom\" or \"bead\". Note that both proteins have 55 residues.\n",
    "\n",
    "The last axis (with dimension `3`) stores the xyz coordinates of the bead. The coordinates are expressed in units of nm."
   ]
  },
  {
   "cell_type": "code",
   "execution_count": null,
   "id": "63e94419",
   "metadata": {},
   "outputs": [],
   "source": [
    "# Load amino acid sequences.\n",
    "seq_protan = parse_fasta_seq(os.path.join(data_dp, \"protan.fasta\"))\n",
    "seq_protac = parse_fasta_seq(os.path.join(data_dp, \"protac.fasta\"))\n",
    "\n",
    "print(\"- protan sequence:\", seq_protan)\n",
    "print(\"- protac sequence:\", seq_protac)\n",
    "\n",
    "# Load xyz data of the MD conformational ensembles.\n",
    "xyz_protan_md = np.load(os.path.join(data_dp, \"protan.npy\"))\n",
    "xyz_protac_md = np.load(os.path.join(data_dp, \"protac.npy\"))\n",
    "\n",
    "print(\"\\n- protan md xyz data:\", xyz_protan_md.shape)\n",
    "print(\"- protac md xyz data:\", xyz_protac_md.shape)"
   ]
  },
  {
   "cell_type": "markdown",
   "id": "bddb2f00",
   "metadata": {},
   "source": [
    "### Load poly-alanine data\n",
    "\n",
    "We will also load MD data for a poly-alanine (`polyala`) molecule having the same number of residues of `protan` and `protac`.\n",
    "\n",
    "In our CG MD simulations, a poly-alanine molecule behaves as a simple random linear polymer.\n",
    "\n",
    "We will use its conformational ensemble as a naive approximation for the ensemble of our two IDPs."
   ]
  },
  {
   "cell_type": "code",
   "execution_count": null,
   "id": "3c3ebb1c",
   "metadata": {},
   "outputs": [],
   "source": [
    "seq_polyala = parse_fasta_seq(os.path.join(data_dp, \"polyala.fasta\"))\n",
    "print(\"- polyala sequence:\", seq_polyala)\n",
    "\n",
    "xyz_polyala_md = np.load(os.path.join(data_dp, \"polyala.npy\"))\n",
    "print(\"\\n- polyala md xyz data:\", xyz_polyala_md.shape)"
   ]
  },
  {
   "cell_type": "markdown",
   "id": "9b66d775",
   "metadata": {},
   "source": [
    "## Generate conformational ensembles with idpGAN\n",
    "\n",
    "Here we will generate conformational ensembles with the generator network of idpGAN."
   ]
  },
  {
   "cell_type": "markdown",
   "id": "445c72ed",
   "metadata": {},
   "source": [
    "### Load the model and its weights"
   ]
  },
  {
   "cell_type": "code",
   "execution_count": null,
   "id": "86f522b5",
   "metadata": {},
   "outputs": [],
   "source": [
    "netg = load_netg_article(model_fp=os.path.join(data_dp, \"generator.pt\"),\n",
    "                         device=device)"
   ]
  },
  {
   "cell_type": "markdown",
   "id": "fd27ed04",
   "metadata": {},
   "source": [
    "### Actually generates the ensembles"
   ]
  },
  {
   "cell_type": "code",
   "execution_count": null,
   "id": "fcd43578",
   "metadata": {},
   "outputs": [],
   "source": [
    "n_samples = 10000"
   ]
  },
  {
   "cell_type": "markdown",
   "id": "d5b6297f",
   "metadata": {},
   "source": [
    "Let's first generated the ensembles for `protan` and `protac`.\n",
    "\n",
    "We will generate ensembles with `n_samples` conformations in them.\n",
    "\n",
    "Also, let's time the speed of the generator network. If you are running the notebook on a GPU, it should be quite fast (on a NVIDIA Quadro RTX 6000 it takes about 600 ms to generate 10000 conformations)."
   ]
  },
  {
   "cell_type": "code",
   "execution_count": null,
   "id": "b3368aee",
   "metadata": {},
   "outputs": [],
   "source": [
    "%%time\n",
    "xyz_protan_gen = netg.predict_idp(n_samples=n_samples, aa_seq=seq_protan,\n",
    "                                  device=device).cpu().numpy()\n",
    "print(\"- protan generated xyz data:\", xyz_protan_gen.shape)"
   ]
  },
  {
   "cell_type": "code",
   "execution_count": null,
   "id": "7cee11c1",
   "metadata": {},
   "outputs": [],
   "source": [
    "%%time\n",
    "xyz_protac_gen = netg.predict_idp(n_samples=n_samples, aa_seq=seq_protac,\n",
    "                                  device=device).cpu().numpy()\n",
    "print(\"- protac generated xyz data:\", xyz_protac_gen.shape)"
   ]
  },
  {
   "cell_type": "markdown",
   "id": "ad4f5bbc",
   "metadata": {},
   "source": [
    "Finally, let's also generate and ensemble for our `polyala` molecule.\n",
    "\n",
    "It will be interesting to see if idpGAN is able to model this artificial sequence (idpGAN was trained only with naturally-occuring amino acid sequences of IDPs)."
   ]
  },
  {
   "cell_type": "code",
   "execution_count": null,
   "id": "d067ee47",
   "metadata": {},
   "outputs": [],
   "source": [
    "%%time\n",
    "xyz_polyala_gen = netg.predict_idp(n_samples=n_samples, aa_seq=seq_polyala,\n",
    "                                   device=device).cpu().numpy()\n",
    "print(\"- polyala generated xyz data:\", xyz_protac_gen.shape)"
   ]
  },
  {
   "cell_type": "markdown",
   "id": "0d9ad777",
   "metadata": {},
   "source": [
    "## Analyze the MD and generated ensembles\n",
    "\n",
    "Let's check some of the properties of the conformational ensembles.\n",
    "\n",
    "We will compare the generated conformational ensembles with the corresponding MD ones."
   ]
  },
  {
   "cell_type": "markdown",
   "id": "d3bf9415",
   "metadata": {},
   "source": [
    "### Distance maps\n",
    "\n",
    "First let's plot the average [distance maps](https://en.wikipedia.org/wiki/Euclidean_distance_matrix) for all the ensembles.\n",
    "\n",
    "In the **lower triangles** of the matrices, we will plot the MD data. In the **upper triangles**, the generated data.\n",
    "\n",
    "In our CG model, the average MD distance maps appear as similar, but by looking at the color intensities, you can spot clear differences.\n",
    "\n",
    "For all three proteins, the idpGAN ensembles have very similar distance maps with respect to the MD ones."
   ]
  },
  {
   "cell_type": "code",
   "execution_count": null,
   "id": "992a7dde",
   "metadata": {},
   "outputs": [],
   "source": [
    "def get_distance_matrix(xyz):\n",
    "    \"\"\"\n",
    "    Gets an ensemble of xyz conformations with shape (N, L, 3) and\n",
    "    returns the corresponding distance matrices with shape (N, L, L).\n",
    "    \"\"\"\n",
    "    return np.sqrt(np.sum(np.square(xyz[:,None,:,:]-xyz[:,:,None,:]), axis=3))\n",
    "\n",
    "# Protan.\n",
    "dmap_protan_md = get_distance_matrix(xyz_protan_md)\n",
    "dmap_protan_gen = get_distance_matrix(xyz_protan_gen)\n",
    "plot_average_dmap_comparison(dmap_protan_md,\n",
    "                             dmap_protan_gen,\n",
    "                             title=\"protan (lower=MD, upper=GEN)\")\n",
    "\n",
    "# Protac.\n",
    "dmap_protac_md = get_distance_matrix(xyz_protac_md)\n",
    "dmap_protac_gen = get_distance_matrix(xyz_protac_gen)\n",
    "plot_average_dmap_comparison(dmap_protac_md,\n",
    "                             dmap_protac_gen,\n",
    "                             title=\"protan (lower=MD, upper=GEN)\")\n",
    "\n",
    "# Polyala.\n",
    "dmap_polyala_md = get_distance_matrix(xyz_polyala_md)\n",
    "dmap_polyala_gen = get_distance_matrix(xyz_polyala_gen)\n",
    "plot_average_dmap_comparison(dmap_polyala_md,\n",
    "                             dmap_polyala_gen,\n",
    "                             title=\"polyala (lower=MD, upper=GEN)\")"
   ]
  },
  {
   "cell_type": "markdown",
   "id": "1ff00e21",
   "metadata": {},
   "source": [
    "Let's also evaluate quantitatively the similarity between the average distance maps.\n",
    "\n",
    "We will use *MSE_d* score (for more information, see the [idpGAN paper](https://www.biorxiv.org/content/10.1101/2022.06.18.496675v1)) expressed as:\n",
    "\n",
    "$MSE_d = \\frac{1}{N_{pairs}} \\sum_{i<j} (m_{ij} - \\hat{m}_{ij})^2,$\n",
    "\n",
    "where $N_{pairs}$ is the number of all interatomic distances in a molecule, $i$ and $j$ are atom indices, $m_{ij}$ and $\\hat{m}_{ij}$ are average interatomic distances in the MD ensemble and the \"predicted\" one used for approximation.\n",
    "\n",
    "We first compute *MSE_d* scores between the MD ensembles of `polyala` with the ones of `protan` and `protac`, as a form of a simple approximation strategy for these two ensembles."
   ]
  },
  {
   "cell_type": "code",
   "execution_count": null,
   "id": "e5647120",
   "metadata": {},
   "outputs": [],
   "source": [
    "print(\"MSE_d polyala MD vs protan MD:\", score_mse_d(dmap_protan_md.mean(axis=0),\n",
    "                                                    dmap_polyala_md.mean(axis=0)))\n",
    "print(\"MSE_d polyala MD vs protac MD:\", score_mse_d(dmap_protac_md.mean(axis=0),\n",
    "                                                    dmap_polyala_md.mean(axis=0)))"
   ]
  },
  {
   "cell_type": "markdown",
   "id": "daa273be",
   "metadata": {},
   "source": [
    "We then compute the *MSE_d* score of the idpGAN ensembles of `protan` and `protac` with the corresponding MD ones. Clearly, idpGAN provides better approximations (lower `MSE_d` scores) with respect to `polyala` data."
   ]
  },
  {
   "cell_type": "code",
   "execution_count": null,
   "id": "3f2018ea",
   "metadata": {},
   "outputs": [],
   "source": [
    "print(\"MSE_d protan GEN vs protan MD:\", score_mse_d(dmap_protan_md.mean(axis=0),\n",
    "                                                    dmap_protan_gen.mean(axis=0)))\n",
    "print(\"MSE_d protac GEN vs protac MD:\", score_mse_d(dmap_protac_md.mean(axis=0),\n",
    "                                                    dmap_protac_gen.mean(axis=0)))"
   ]
  },
  {
   "cell_type": "markdown",
   "id": "8b7e2987",
   "metadata": {},
   "source": [
    "### Contact maps\n",
    "\n",
    "Now let's plot the [contact maps](https://en.wikipedia.org/wiki/Protein_contact_map) of the three ensembles.\n",
    "\n",
    "Just like before, in the **lower triangles** we plot the data for the MD ensembles, in the **upper triangles** data for the generated ensembles.\n",
    "\n",
    "The MD maps are quite different between one ensemble and the other. This is because different amino acid compositions influence the dynamics of the three molecules. Note for example that the `polyala` map is quite homogeneous. On the other hand, `protan` and `protac` have some clear patterns caused by stretched of charged residues.\n",
    "\n",
    "We can see that idpGAN captures the main patterns of each MD contact map."
   ]
  },
  {
   "cell_type": "code",
   "execution_count": null,
   "id": "94f54726",
   "metadata": {},
   "outputs": [],
   "source": [
    "def get_contact_map(dmap, threshold=0.8, pseudo_count=0.01):\n",
    "    \"\"\"\n",
    "    Gets a trajectory of distance maps with shape (N, L, L) and\n",
    "    returns a (L, L) contact probability map.\n",
    "    \"\"\"\n",
    "    n = dmap.shape[0]\n",
    "    cmap = ((dmap <= threshold).astype(int).sum(axis=0)+pseudo_count)/n\n",
    "    return cmap\n",
    "\n",
    "\n",
    "# Protan.\n",
    "cmap_protan_md = get_contact_map(dmap_protan_md)\n",
    "cmap_protan_gen = get_contact_map(dmap_protan_gen)\n",
    "plot_cmap_comparison(cmap_protan_md,\n",
    "                     cmap_protan_gen,\n",
    "                     title=\"protan (lower=MD, upper=GEN)\")\n",
    "\n",
    "# Protac.\n",
    "cmap_protac_md = get_contact_map(dmap_protac_md)\n",
    "cmap_protac_gen = get_contact_map(dmap_protac_gen)\n",
    "plot_cmap_comparison(cmap_protac_md,\n",
    "                     cmap_protac_gen,\n",
    "                     title=\"protan (lower=MD, upper=GEN)\")\n",
    "\n",
    "# Polyala.\n",
    "cmap_polyala_md = get_contact_map(dmap_polyala_md)\n",
    "cmap_polyala_gen = get_contact_map(dmap_polyala_gen)\n",
    "plot_cmap_comparison(cmap_polyala_md,\n",
    "                     cmap_polyala_gen,\n",
    "                     title=\"polyala (lower=MD, upper=GEN)\")"
   ]
  },
  {
   "cell_type": "markdown",
   "id": "9e50754d",
   "metadata": {},
   "source": [
    "Let's also use the *MSE_c* score (see the [idpGAN paper](https://www.biorxiv.org/content/10.1101/2022.06.18.496675v1)) to evaluate the similarity between the contact maps. The score is expressed as:\n",
    "\n",
    "$MSE_c = \\frac{1}{N_{pairs}} \\sum_{i<j} (log(p_{ij}) - log(\\hat{p}_{ij}))^2,$\n",
    "\n",
    "where $p_{ij}$ and $\\hat{p}_{ij}$ are contact frequencies in the MD ensemble and the \"predicted\" ensemble used for approximation.\n",
    "\n",
    "We first check how well the `polyala` MD contact maps can approximate the `protan` and `protac` MD ones."
   ]
  },
  {
   "cell_type": "code",
   "execution_count": null,
   "id": "8054b8bf",
   "metadata": {},
   "outputs": [],
   "source": [
    "print(\"MSE_c polyala MD vs protan MD:\", score_mse_c(cmap_protan_md,\n",
    "                                                    cmap_polyala_md))\n",
    "print(\"MSE_c polyala MD vs protac MD:\", score_mse_c(cmap_protac_md,\n",
    "                                                    cmap_polyala_md))"
   ]
  },
  {
   "cell_type": "markdown",
   "id": "6eb796ea",
   "metadata": {},
   "source": [
    "Then we check how the idpGAN contact maps for `protan` and `protac` can approximate the MD ones. Again, idpGAN provides much better approximations than `polyala`."
   ]
  },
  {
   "cell_type": "code",
   "execution_count": null,
   "id": "1fc4479a",
   "metadata": {},
   "outputs": [],
   "source": [
    "print(\"MSE_c protan GEN vs protan MD:\", score_mse_c(cmap_protan_md,\n",
    "                                                    cmap_protan_gen))\n",
    "print(\"MSE_c protac GEN vs protac MD:\", score_mse_c(cmap_protac_md,\n",
    "                                                    cmap_protac_gen))"
   ]
  },
  {
   "cell_type": "markdown",
   "id": "b999748a",
   "metadata": {},
   "source": [
    "### Distributions of inter-atomic distances\n",
    "\n",
    "Next, we will evaluate the distributions of pairwise interatomic distances.\n",
    "\n",
    "There are clear differences in the shapes of the MD distributions for the three proteins. `polyala` data is not always a good approximation to the distributions of `protan` and `protac`.\n",
    "\n",
    "Again, we see that idpGAN provides for each system good approximations.\n",
    "\n",
    "Each time you run the cell below, different interatomic distance distributions will be plotted."
   ]
  },
  {
   "cell_type": "code",
   "execution_count": null,
   "id": "a462801c",
   "metadata": {},
   "outputs": [],
   "source": [
    "plot_distances_comparison(prot_data=((\"protan\", dmap_protan_md, dmap_protan_gen),\n",
    "                                     (\"protac\", dmap_protac_md, dmap_protac_gen)),\n",
    "                          polyala_data=(dmap_polyala_md, dmap_polyala_gen),\n",
    "                          n_residues=55, n_hist=5)"
   ]
  },
  {
   "cell_type": "markdown",
   "id": "31fc3875",
   "metadata": {},
   "source": [
    "Let's evaluate quantitatively the similarity between interatomic distance distributions. We will use the aKLD_d score, which is expressed as:\n",
    "\n",
    "$aKLD_d = \\frac{1}{N_{pairs}} \\sum_{i<j} KLD(M_{ij} \\parallel \\hat{M}_{ij}),$\n",
    "\n",
    "where $M_{ij}$ is the distribution of distances between atoms $i$ and $j$ in the MD data, $\\hat{M}_{ij}$ is the predicted distance distribution for the same atoms and $KLD(M_{ij} \\parallel \\hat{M}_{ij})$ is an approximation of their [Kullback-Leibler divergence](https://en.wikipedia.org/wiki/Kullback–Leibler_divergence) (refer the [idpGAN article](https://www.biorxiv.org/content/10.1101/2022.06.18.496675v1) to see how this approximation is computed).\n",
    "\n",
    "We first check how well the `polyala` MD distance distributions can approximate the `protan` and `protac` MD ones."
   ]
  },
  {
   "cell_type": "code",
   "execution_count": null,
   "id": "f823379f",
   "metadata": {},
   "outputs": [],
   "source": [
    "print(\"aKLD_d polyala MD vs protan MD:\", score_akld_d(dmap_protan_md,\n",
    "                                                      dmap_polyala_md))\n",
    "print(\"aKLD_d polyala MD vs protac MD:\", score_akld_d(dmap_protac_md,\n",
    "                                                      dmap_polyala_md))"
   ]
  },
  {
   "cell_type": "markdown",
   "id": "7ccf330d",
   "metadata": {},
   "source": [
    "Then we check how the idpGAN can approximate the MD distance distributions for `protan` and `protac`. Also for distances, idpGAN gives better approximations than `polyala`."
   ]
  },
  {
   "cell_type": "code",
   "execution_count": null,
   "id": "0d05babb",
   "metadata": {},
   "outputs": [],
   "source": [
    "print(\"aKLD_d protan GEN vs protan MD:\", score_akld_d(dmap_protan_md,\n",
    "                                                      dmap_protan_gen))\n",
    "print(\"aKLD_d protac GEN vs protac MD:\", score_akld_d(dmap_protac_md,\n",
    "                                                      dmap_protac_gen))"
   ]
  },
  {
   "cell_type": "markdown",
   "id": "2ccce0a3",
   "metadata": {},
   "source": [
    "### Radius of gyration distribution\n",
    "\n",
    "Finally, we will evaluate the distributions of [radius of gyration](https://en.wikipedia.org/wiki/Radius_of_gyration) (Rg) of our proteins.\n",
    "\n",
    "Again, we see that idpGAN provides better approximations than polyala MD data for the `protan` and `protac` MD ensembles."
   ]
  },
  {
   "cell_type": "code",
   "execution_count": null,
   "id": "2bddd8d7",
   "metadata": {},
   "outputs": [],
   "source": [
    "def compute_rg(xyz):\n",
    "    \"\"\"\n",
    "    Adapted from the mdtraj library: https://github.com/mdtraj/mdtraj.\n",
    "    \"\"\"\n",
    "    num_atoms = xyz.shape[1]\n",
    "    masses = np.ones(num_atoms)\n",
    "    weights = masses / masses.sum()\n",
    "    mu = xyz.mean(1)\n",
    "    centered = (xyz.transpose((1, 0, 2)) - mu).transpose((1, 0, 2))\n",
    "    squared_dists = (centered ** 2).sum(2)\n",
    "    Rg = (squared_dists * weights).sum(1) ** 0.5\n",
    "    return Rg\n",
    "\n",
    "\n",
    "rg_protan_md = compute_rg(xyz_protan_md)\n",
    "rg_protac_md = compute_rg(xyz_protac_md)\n",
    "rg_polyala_md = compute_rg(xyz_polyala_md)\n",
    "rg_protan_gen = compute_rg(xyz_protan_gen)\n",
    "rg_protac_gen = compute_rg(xyz_protac_gen)\n",
    "rg_polyala_gen = compute_rg(xyz_polyala_gen)\n",
    "\n",
    "plot_rg_comparison(prot_data=((\"protan\", rg_protan_md, rg_protan_gen),\n",
    "                              (\"protac\", rg_protac_md, rg_protac_gen)),\n",
    "                   polyala_data=(rg_polyala_md, rg_polyala_gen))"
   ]
  },
  {
   "cell_type": "markdown",
   "id": "80105c14",
   "metadata": {},
   "source": [
    "Let's finally evaluate quantitatively the similarity between Rg distributions. We will use the KLD_r score, based on an approximation of the [Kullback-Leibler divergence](https://en.wikipedia.org/wiki/Kullback–Leibler_divergence).\n",
    "\n",
    "We first check how the `polyala` MD Rg distributions can approximate the `protan` and `protac` MD ones."
   ]
  },
  {
   "cell_type": "code",
   "execution_count": null,
   "id": "e53f26e6",
   "metadata": {},
   "outputs": [],
   "source": [
    "print(\"KLD_r polyala MD vs protan MD:\", score_kl_approximation(rg_protan_md,\n",
    "                                                               rg_polyala_md)[0])\n",
    "print(\"KLD_r polyala MD vs protac MD:\", score_kl_approximation(rg_protac_md,\n",
    "                                                               rg_polyala_md)[0])"
   ]
  },
  {
   "cell_type": "markdown",
   "id": "5154df58",
   "metadata": {},
   "source": [
    "Then we check how the idpGAN can approximate the MD Rg distributions for `protan` and `protac`. Also for Rg values, idpGAN constitues a better approximation than `polyala`."
   ]
  },
  {
   "cell_type": "code",
   "execution_count": null,
   "id": "6752dfa8",
   "metadata": {},
   "outputs": [],
   "source": [
    "print(\"KLD_r protan MD vs protan MD:\", score_kl_approximation(rg_protan_md,\n",
    "                                                              rg_protan_gen)[0])\n",
    "print(\"KLD_r protac MD vs protac MD:\", score_kl_approximation(rg_protac_md,\n",
    "                                                              rg_protac_gen)[0])"
   ]
  },
  {
   "cell_type": "markdown",
   "id": "440f92fb",
   "metadata": {},
   "source": [
    "# 3 - Generate ensembles for a custom protein\n",
    "Use the idpGAN generator to generate conformational ensembles for a user-defined sequence."
   ]
  },
  {
   "cell_type": "markdown",
   "id": "5d99bfec",
   "metadata": {},
   "source": [
    "## Actually generate the xyz data\n",
    "\n",
    "We first load again the idpGAN generator model and its weights here, in case you have skipped the cells above."
   ]
  },
  {
   "cell_type": "code",
   "execution_count": null,
   "id": "0d03f754",
   "metadata": {},
   "outputs": [],
   "source": [
    "netg = load_netg_article(model_fp=os.path.join(data_dp, \"generator.pt\"),\n",
    "                         device=device)"
   ]
  },
  {
   "cell_type": "markdown",
   "id": "8d05a8a9",
   "metadata": {},
   "source": [
    "Set the number of samples to generate and the sequence of the protein."
   ]
  },
  {
   "cell_type": "code",
   "execution_count": null,
   "id": "2228b629",
   "metadata": {},
   "outputs": [],
   "source": [
    "# Number of samples in the ensemble to generate.\n",
    "n_custom_samples = 5000\n",
    "# Amino acid sequence for the custom protein. Feel free to change it!\n",
    "custom_protein_name = \"Q8GT36\"\n",
    "custom_seq = \"MSSLPFVFGAAASSRVVTAAAAKGTAETKQEKSFVDWLLGKITKEDQFYETDPILRGGDVKSSGSTSGKKGGTTSGKKGTVSIPSKKKNGNGGVFGGLFAKKD\"\n",
    "\n",
    "print(\"- custom protein length:\", len(custom_seq))"
   ]
  },
  {
   "cell_type": "markdown",
   "id": "620ce9f0",
   "metadata": {},
   "source": [
    "Actually use the generator to sample conformations.\n",
    "\n",
    "Note: for larger proteins, you should decrease the batch_size argument if you get out of memory errors (and also restart the kernel of the notebook to clear up memory)."
   ]
  },
  {
   "cell_type": "code",
   "execution_count": null,
   "id": "5c8ff3e3",
   "metadata": {},
   "outputs": [],
   "source": [
    "xyz_custom_gen = netg.predict_idp(n_samples=n_custom_samples,\n",
    "                                  aa_seq=custom_seq,\n",
    "                                  device=device,\n",
    "                                  batch_size=16).cpu().numpy()\n",
    "print(\"- custom generated xyz data:\", xyz_custom_gen.shape)"
   ]
  },
  {
   "cell_type": "markdown",
   "id": "6ee1fb08",
   "metadata": {},
   "source": [
    "## Visualize some properties of the generated ensemble\n",
    "\n",
    "Let's visualize some properties of the generated conformational ensemble."
   ]
  },
  {
   "cell_type": "code",
   "execution_count": null,
   "id": "19c00f61",
   "metadata": {},
   "outputs": [],
   "source": [
    "dmap_custom_gen = get_distance_matrix(xyz_custom_gen)\n",
    "cmap_custom_gen = get_contact_map(dmap_custom_gen)\n",
    "rg_custom_gen = compute_rg(xyz_custom_gen)"
   ]
  },
  {
   "cell_type": "markdown",
   "id": "87043bb2",
   "metadata": {},
   "source": [
    "Visualize the average distance map."
   ]
  },
  {
   "cell_type": "code",
   "execution_count": null,
   "id": "656c1f7b",
   "metadata": {},
   "outputs": [],
   "source": [
    "plot_average_dmap_comparison(dmap_ref=None, dmap_gen=dmap_custom_gen,\n",
    "                             title=\"%s GEN\" % custom_protein_name)"
   ]
  },
  {
   "cell_type": "markdown",
   "id": "3bee0651",
   "metadata": {},
   "source": [
    "Visualize the contacp map."
   ]
  },
  {
   "cell_type": "code",
   "execution_count": null,
   "id": "dab64f44",
   "metadata": {},
   "outputs": [],
   "source": [
    "plot_cmap_comparison(cmap_ref=None, cmap_gen=cmap_custom_gen,\n",
    "                     title=\"%s GEN\" % custom_protein_name)"
   ]
  },
  {
   "cell_type": "markdown",
   "id": "93893b8c",
   "metadata": {},
   "source": [
    "Visualize the distribution of radius of gyration."
   ]
  },
  {
   "cell_type": "code",
   "execution_count": null,
   "id": "4352d04b",
   "metadata": {},
   "outputs": [],
   "source": [
    "plot_rg_distribution(rg_vals=rg_custom_gen,\n",
    "                     title=\"%s GEN\" % custom_protein_name,\n",
    "                     n_bins=50)"
   ]
  },
  {
   "cell_type": "markdown",
   "id": "2a5d9c9c",
   "metadata": {},
   "source": [
    "Visualize the distance maps of some random snapshots.\n",
    "\n",
    "Each time you run the cell, you will plot different snapshots."
   ]
  },
  {
   "cell_type": "code",
   "execution_count": null,
   "id": "3f7369ed",
   "metadata": {},
   "outputs": [],
   "source": [
    "plot_dmap_snapshots(dmap=dmap_custom_gen,\n",
    "                    title=\"%s GEN\" % custom_protein_name,\n",
    "                    n_snapshots=4)"
   ]
  },
  {
   "cell_type": "markdown",
   "id": "14173645",
   "metadata": {},
   "source": [
    "Visualize the 3D conformational ensemble using [NGLview](https://github.com/nglviewer/nglview) and [MDTraj](https://github.com/mdtraj/mdtraj)."
   ]
  },
  {
   "cell_type": "code",
   "execution_count": null,
   "id": "a25ec6be",
   "metadata": {},
   "outputs": [],
   "source": [
    "if use_3d_viewer:\n",
    "    top_fp = os.path.join(data_dp, \"custom_protein.pdb\")\n",
    "    seq_to_cg_pdb(custom_seq, out_fp=top_fp)"
   ]
  },
  {
   "cell_type": "code",
   "execution_count": null,
   "id": "3a0c0715",
   "metadata": {},
   "outputs": [],
   "source": [
    "if use_3d_viewer:\n",
    "    m_traj = mdtraj.Trajectory(xyz_custom_gen,\n",
    "                               mdtraj.load(top_fp).topology)\n",
    "    m_traj.superpose(m_traj, frame=0)"
   ]
  },
  {
   "cell_type": "code",
   "execution_count": null,
   "id": "dd8df455",
   "metadata": {},
   "outputs": [],
   "source": [
    "if use_3d_viewer:\n",
    "    # Set 'load_all_frames' as 'True' to show an entire ensemble (as a\n",
    "    # \"movie\"). On Colab it does not seem to work, so we can load only one\n",
    "    # conformation at a time. It will likely work if running the notebook\n",
    "    # locally.\n",
    "    load_all_frames = False\n",
    "\n",
    "    if load_all_frames:\n",
    "        m_traj = mdtraj.Trajectory(xyz_custom_gen,\n",
    "                                   mdtraj.load(top_fp).topology)\n",
    "        m_traj.superpose(m_traj, frame=0)\n",
    "    else:\n",
    "        random_frame = np.random.choice(xyz_custom_gen.shape[0])\n",
    "        print(\"- Showing frame %s\" % random_frame)\n",
    "        m_traj = mdtraj.Trajectory(\n",
    "                     xyz_custom_gen[random_frame,:,:].reshape(1, -1, 3),\n",
    "                     mdtraj.load(top_fp).topology)\n",
    "        \n",
    "    m_view = nglview.show_mdtraj(m_traj)\n",
    "    # Color modes you can try: \"resname\", \"residueindex\".\n",
    "    color_mode = \"resname\" \n",
    "    m_view.add_spacefill(color=color_mode)\n",
    "    m_view.center()\n",
    "    display(m_view)"
   ]
  }
 ],
 "metadata": {
  "kernelspec": {
   "display_name": "Python 3",
   "language": "python",
   "name": "python3"
  },
  "language_info": {
   "codemirror_mode": {
    "name": "ipython",
    "version": 3
   },
   "file_extension": ".py",
   "mimetype": "text/x-python",
   "name": "python",
   "nbconvert_exporter": "python",
   "pygments_lexer": "ipython3",
   "version": "3.8.10"
  }
 },
 "nbformat": 4,
 "nbformat_minor": 5
}
